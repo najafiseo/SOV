{
  "cells": [
    {
      "cell_type": "markdown",
      "metadata": {
        "id": "view-in-github",
        "colab_type": "text"
      },
      "source": [
        "<a href=\"https://colab.research.google.com/github/najafiseo/SOV/blob/main/serper_position_and_SOV_.ipynb\" target=\"_parent\"><img src=\"https://colab.research.google.com/assets/colab-badge.svg\" alt=\"Open In Colab\"/></a>"
      ]
    },
    {
      "cell_type": "code",
      "source": [
        "!pip install pandas openpyxl requests\n",
        "\n",
        "import pandas as pd\n",
        "import requests\n",
        "import json\n",
        "import time\n",
        "from tqdm import tqdm\n",
        "import matplotlib.pyplot as plt\n",
        "import json\n",
        "import requests\n",
        "import time"
      ],
      "metadata": {
        "id": "CFtZx-lDdk2f"
      },
      "execution_count": null,
      "outputs": []
    },
    {
      "cell_type": "code",
      "source": [
        "from google.colab import files\n",
        "uploaded = files.upload()\n",
        "\n",
        "excel_filename = list(uploaded.keys())[0]\n",
        "df = pd.read_excel(excel_filename)\n",
        "\n",
        "df.head()"
      ],
      "metadata": {
        "id": "wiWIvqogf4NN"
      },
      "execution_count": null,
      "outputs": []
    },
    {
      "cell_type": "code",
      "source": [
        "sites_to_check = [\n",
        "    \"idehal.org\",\n",
        "    \"blog.idehal.org\",\n",
        "    \"digikala.com\",\n",
        "    \"torob.com\",\n",
        "    \"panasonic-irani.com\",\n",
        "    \"panasonicstore.ir\",\n",
        "    \"emalls.ir\"\n",
        "]\n",
        "\n",
        "URL = \"https://google.serper.dev/search\"\n",
        "\n",
        "API_KEYS = [\n",
        "    \"کلید اول\",\n",
        "    \"کلید دوم\",\n",
        "\n",
        "]\n",
        "\n",
        "current_key_index = 0\n",
        "query_count = 0\n",
        "QUERY_LIMIT_PER_KEY = 1200\n",
        "\n",
        "def switch_api_key():\n",
        "    global current_key_index, query_count\n",
        "    current_key_index = (current_key_index + 1) % len(API_KEYS)\n",
        "    query_count = 0\n",
        "    print(f\"\\n سوئیچ به API جدید: {API_KEYS[current_key_index][:8]}...\")\n",
        "\n",
        "def send_request_with_retry(batch, max_retries=3):\n",
        "    global query_count\n",
        "\n",
        "    for attempt in range(max_retries):\n",
        "        if query_count + len(batch) > QUERY_LIMIT_PER_KEY:\n",
        "            switch_api_key()\n",
        "\n",
        "        headers = {\n",
        "            'X-API-KEY': API_KEYS[current_key_index],\n",
        "            'Content-Type': 'application/json'\n",
        "        }\n",
        "\n",
        "        try:\n",
        "            response = requests.post(URL, headers=headers, data=json.dumps(batch))\n",
        "            if response.status_code == 200:\n",
        "                query_count += len(batch)\n",
        "                return response.json()\n",
        "            else:\n",
        "                print(f\"API Error {response.status_code} - سوئیچ کلید\")\n",
        "                switch_api_key()\n",
        "        except Exception as e:\n",
        "            print(f\" خطا در تلاش {attempt+1}: {e}\")\n",
        "            time.sleep(2)\n",
        "\n",
        "    print(\" تلاش ناموفق، عبور از این batch\")\n",
        "    return None\n"
      ],
      "metadata": {
        "id": "Gn0Lguw7QRVM"
      },
      "execution_count": null,
      "outputs": []
    },
    {
      "cell_type": "code",
      "source": [
        "keywords = df[\"کلمه کلیدی\"].dropna().tolist()\n",
        "\n",
        "positions = {site: [] for site in sites_to_check}\n",
        "\n",
        "batch_size = 100\n",
        "for i in tqdm(range(0, len(keywords), batch_size)):\n",
        "    batch_keywords = keywords[i:i+batch_size]\n",
        "\n",
        "    queries = [{\n",
        "        \"q\": keyword,\n",
        "        \"gl\": \"ir\",\n",
        "        \"hl\": \"fa\",\n",
        "        \"num\": 20\n",
        "    } for keyword in batch_keywords]\n",
        "\n",
        "    response_data = send_request_with_retry(queries)\n",
        "\n",
        "    if response_data is None:\n",
        "        print(f\"خطا در دریافت اطلاعات batch {i // batch_size + 1}\")\n",
        "        for site in sites_to_check:\n",
        "            positions[site].extend([None] * len(batch_keywords))\n",
        "        continue\n",
        "\n",
        "    for idx, result in enumerate(response_data):\n",
        "        keyword_results = result.get(\"organic\", [])\n",
        "\n",
        "        for site in sites_to_check:\n",
        "            found = False\n",
        "            for pos, item in enumerate(keyword_results, start=1):\n",
        "                link = item.get(\"link\", \"\")\n",
        "                if site in link:\n",
        "                    positions[site].append(pos)\n",
        "                    found = True\n",
        "                    break\n",
        "            if not found:\n",
        "                positions[site].append(None)\n"
      ],
      "metadata": {
        "id": "6qF-QdXLN8MH"
      },
      "execution_count": null,
      "outputs": []
    },
    {
      "cell_type": "code",
      "source": [
        "for site in sites_to_check:\n",
        "    column_name = f\"{site}\"\n",
        "    df[column_name] = positions[site]\n",
        "\n",
        "\n",
        "output_filename = \"نتایج_کلمات_کلیدی_با_پوزیشن.xlsx\"\n",
        "df.to_excel(output_filename, index=False)\n",
        "\n",
        "from google.colab import files\n",
        "files.download(output_filename)\n"
      ],
      "metadata": {
        "id": "cjXNA_2eOHsk"
      },
      "execution_count": null,
      "outputs": []
    },
    {
      "cell_type": "markdown",
      "source": [
        "# SOV"
      ],
      "metadata": {
        "id": "6Vr3VYs0ZvnH"
      }
    },
    {
      "cell_type": "code",
      "source": [
        "def weighted_ctr(row, site):\n",
        "    pos = row[site]\n",
        "    sv = row[\"سرچ ولوم\"]\n",
        "    if pd.isna(pos) or pd.isna(sv):\n",
        "        return 0\n",
        "\n",
        "    ctr_map = {\n",
        "        1: 0.276,\n",
        "        2: 0.158,\n",
        "        3: 0.11,\n",
        "        4: 0.084,\n",
        "        5: 0.063,\n",
        "        6: 0.049,\n",
        "        7: 0.039,\n",
        "        8: 0.033,\n",
        "        9: 0.027,\n",
        "        10: 0.024\n",
        "    }\n",
        "    try:\n",
        "        pos = int(pos)\n",
        "    except:\n",
        "        return 0\n",
        "\n",
        "    weight = ctr_map.get(pos, 0)\n",
        "    return weight * sv\n"
      ],
      "metadata": {
        "id": "GsSE5mEBgR39"
      },
      "execution_count": null,
      "outputs": []
    },
    {
      "cell_type": "code",
      "source": [
        "sov_scores = {}\n",
        "\n",
        "for site in sites_to_check:\n",
        "    df[f\"{site}_سهم\"] = df.apply(lambda row: weighted_ctr(row, site), axis=1)\n",
        "    sov_scores[site] = df[f\"{site}_سهم\"].sum()\n",
        "\n",
        "total = sum(sov_scores.values())\n",
        "sov_percent = {site: round((score / total) * 100, 2) if total else 0 for site, score in sov_scores.items()}\n",
        "\n",
        "print(\" SOV واقعی بر اساس CTR و سرچ ولوم:\")\n",
        "for site, percent in sov_percent.items():\n",
        "    print(f\"{site}: {percent}%\")\n"
      ],
      "metadata": {
        "id": "qV7PGFuFgeje"
      },
      "execution_count": null,
      "outputs": []
    },
    {
      "cell_type": "code",
      "source": [
        "labels = list(sov_percent.keys())\n",
        "sizes = list(sov_percent.values())\n",
        "\n",
        "plt.figure(figsize=(8, 8))\n",
        "plt.pie(sizes, labels=labels, autopct='%1.1f%%', startangle=140)\n",
        "plt.axis('equal')\n",
        "plt.title(\"SOV\")\n",
        "plt.show()\n"
      ],
      "metadata": {
        "id": "P_yg-DHScqVS"
      },
      "execution_count": null,
      "outputs": []
    }
  ],
  "metadata": {
    "colab": {
      "provenance": [],
      "authorship_tag": "ABX9TyOWV7nB2sunH8U4hx/CqcR9",
      "include_colab_link": true
    },
    "kernelspec": {
      "display_name": "Python 3",
      "name": "python3"
    },
    "language_info": {
      "name": "python"
    }
  },
  "nbformat": 4,
  "nbformat_minor": 0
}
